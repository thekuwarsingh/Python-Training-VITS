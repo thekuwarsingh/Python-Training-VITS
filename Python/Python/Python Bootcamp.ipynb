{
 "cells": [
  {
   "cell_type": "markdown",
   "id": "2ee69eda",
   "metadata": {},
   "source": [
    "## Python Data Structure "
   ]
  },
  {
   "cell_type": "markdown",
   "id": "96d4f006",
   "metadata": {},
   "source": [
    "#### List "
   ]
  },
  {
   "cell_type": "code",
   "execution_count": 5,
   "id": "6ace3928",
   "metadata": {},
   "outputs": [
    {
     "name": "stdout",
     "output_type": "stream",
     "text": [
      "Original List\t: [6, 12, 3, 8]\n",
      "Sorted List\t: [3, 6, 8, 12]\n",
      "Sorted List\t: [3, 6, 8, 12]\n",
      "Sorted List\t: [12, 8, 6, 3]\n"
     ]
    }
   ],
   "source": [
    "#sorted()\n",
    "\n",
    "myList = [6, 12, 3, 8]\n",
    "print(f'Original List\\t: {myList}')\n",
    "print(f'Sorted List\\t: {sorted(myList)}')\n",
    "\n",
    "sortedList = sorted(myList)\n",
    "print(f'Sorted List\\t: {sortedList}')\n",
    "\n",
    "print(f'Sorted List\\t: {sorted(myList, reverse = True)}')"
   ]
  },
  {
   "cell_type": "code",
   "execution_count": 9,
   "id": "9c983aba",
   "metadata": {},
   "outputs": [
    {
     "name": "stdout",
     "output_type": "stream",
     "text": [
      "Original List\t: [6, 12, 3, 8]\n",
      "Sorted List\t: None\n",
      "Original List\t: [3, 6, 8, 12]\n",
      "Original List\t: [12, 8, 6, 3]\n"
     ]
    }
   ],
   "source": [
    "#sort()\n",
    "\n",
    "myList = [6, 12, 3, 8]\n",
    "print(f'Original List\\t: {myList}')\n",
    "print(f'Sorted List\\t: {myList.sort()}')\n",
    "\n",
    "print(f'Original List\\t: {myList}')\n",
    "sortedList = myList.sort(reverse = True)\n",
    "print(f'Original List\\t: {myList}')"
   ]
  },
  {
   "cell_type": "code",
   "execution_count": 16,
   "id": "f094e9b8",
   "metadata": {},
   "outputs": [
    {
     "name": "stdout",
     "output_type": "stream",
     "text": [
      "['Ram', 'Shyam']\n",
      "['Ram', 'Shyam', 'Shravan']\n",
      "['Ram', 'Shyam', 'Shravan', ['Laxman', 'Mohan']]\n",
      "['Ram', 'Shyam', 'Shravan', ['Laxman', 'Mohan'], ['Rita', 'Margret']]\n",
      "['Ram', 'Shyam', 'Shravan', ['Laxman', 'Mohan'], ['Rita', 'Margret'], 'Laxman', 'Mohan']\n"
     ]
    }
   ],
   "source": [
    "#append()\n",
    "#extend()\n",
    "\n",
    "List = ['Ram', 'Shyam']\n",
    "print(List)\n",
    "\n",
    "List.append(\"Shravan\")\n",
    "print(List)\n",
    "\n",
    "#List.append(\"Laxman\", \"Mohan\") - TypeError\n",
    "add = [\"Laxman\", \"Mohan\"]\n",
    "List.append(add)\n",
    "print(List)\n",
    "\n",
    "List.append([\"Rita\", \"Margret\"])\n",
    "print(List)\n",
    "\n",
    "List.extend(add)\n",
    "print(List)"
   ]
  },
  {
   "cell_type": "code",
   "execution_count": 82,
   "id": "b9f9e82c",
   "metadata": {},
   "outputs": [
    {
     "name": "stdout",
     "output_type": "stream",
     "text": [
      "[1, 2, 3, 4]\n",
      "[1, 2, 3, 4]\n",
      "False\n",
      "True\n",
      "[1, 2, 3, 4, 5]\n",
      "[1, 2, 3, 4, 5, 'Dolly']\n",
      "[1, 2, 3, 4, 5]\n",
      "[1, 2, 3, 4]\n",
      "[1, 3, 4]\n",
      "4\n",
      "1\n",
      "3\n",
      "[4, 3, 1]\n",
      "1\n",
      "3\n",
      "record : [4, 3, 1, 2, 2, 2, 45, 5, 6, 5, 4, 5, 6, 5]\n",
      "record : [4, 3, 1, 2, 2, 2, 45, 6, 5, 4, 5, 6, 5]\n",
      "record : []\n"
     ]
    },
    {
     "ename": "NameError",
     "evalue": "name 'record' is not defined",
     "output_type": "error",
     "traceback": [
      "\u001b[1;31m---------------------------------------------------------------------------\u001b[0m",
      "\u001b[1;31mNameError\u001b[0m                                 Traceback (most recent call last)",
      "\u001b[1;32m~\\AppData\\Local\\Temp\\ipykernel_22768\\195236405.py\u001b[0m in \u001b[0;36m<module>\u001b[1;34m\u001b[0m\n\u001b[0;32m     59\u001b[0m \u001b[1;33m\u001b[0m\u001b[0m\n\u001b[0;32m     60\u001b[0m \u001b[1;32mdel\u001b[0m \u001b[0mrecord\u001b[0m\u001b[1;33m\u001b[0m\u001b[1;33m\u001b[0m\u001b[0m\n\u001b[1;32m---> 61\u001b[1;33m \u001b[0mprint\u001b[0m\u001b[1;33m(\u001b[0m\u001b[1;34mf'record : {record}'\u001b[0m\u001b[1;33m)\u001b[0m     \u001b[1;31m#NameError\u001b[0m\u001b[1;33m\u001b[0m\u001b[1;33m\u001b[0m\u001b[0m\n\u001b[0m",
      "\u001b[1;31mNameError\u001b[0m: name 'record' is not defined"
     ]
    }
   ],
   "source": [
    "#copy()\n",
    "#insert()\n",
    "#pop()\n",
    "#remove()\n",
    "#reverse()\n",
    "#count()\n",
    "#clear()\n",
    "#max()\n",
    "#min()\n",
    "#len()\n",
    "#del    : Keyword{It is used to delete any object in Python}\n",
    "\n",
    "record = [1, 2, 3, 4]\n",
    "recordOne = record.copy()\n",
    "print(record)\n",
    "print(recordOne)\n",
    "\n",
    "x = record is recordOne\n",
    "print(x)\n",
    "\n",
    "recordOne = record\n",
    "x = record is recordOne\n",
    "print(x)\n",
    "\n",
    "record.insert(4, 5)\n",
    "print(record)\n",
    "\n",
    "record.insert(5,\"Dolly\")\n",
    "print(record)\n",
    "\n",
    "record.remove('Dolly')\n",
    "print(record)\n",
    "\n",
    "record.pop()\n",
    "print(record)\n",
    "\n",
    "record.pop(1)\n",
    "print(record)\n",
    "\n",
    "print(max(record))\n",
    "print(min(record))\n",
    "print(len(record))\n",
    "\n",
    "record.reverse()\n",
    "print(record)\n",
    "\n",
    "print(record.count(4))\n",
    "\n",
    "record.extend([2,2,2,45,5,6,5,4,5,6,5])\n",
    "print(record.count(2))\n",
    "\n",
    "print(f'record : {record}')\n",
    "\n",
    "del record[7]\n",
    "print(f'record : {record}')\n",
    "\n",
    "record.clear()\n",
    "print(f'record : {record}')\n",
    "\n",
    "del record\n",
    "print(f'record : {record}')     #NameError"
   ]
  },
  {
   "cell_type": "code",
   "execution_count": 53,
   "id": "17aa691f",
   "metadata": {},
   "outputs": [
    {
     "name": "stdout",
     "output_type": "stream",
     "text": [
      "[] <class 'list'>\n",
      "Enter the number of elements you want to insert : 2\n",
      "Input - 1 : Ram\n",
      "Input - 2 : Mohan\n",
      "recordList : ['Ram', 'Mohan']\n"
     ]
    }
   ],
   "source": [
    "recordList = list()\n",
    "print(recordList, type(recordList))\n",
    "\n",
    "n = int(input(\"Enter the number of elements you want to insert : \"))\n",
    "\n",
    "for i in range(n):\n",
    "    listItem = input(f'Input - {i + 1} : ')\n",
    "    recordList.append(listItem)\n",
    "\n",
    "print(f'recordList : {recordList}')"
   ]
  },
  {
   "cell_type": "code",
   "execution_count": 59,
   "id": "8d69b2de",
   "metadata": {},
   "outputs": [
    {
     "name": "stdout",
     "output_type": "stream",
     "text": [
      "[1, 2, 1, 2]\n",
      "[1, 2, 8, 9, 1, 2]\n"
     ]
    }
   ],
   "source": [
    "#Sequence Operator : +, *\n",
    "record = [1, 2]\n",
    "print(record * 2)\n",
    "print(record + [8, 9] + record)"
   ]
  },
  {
   "cell_type": "code",
   "execution_count": 61,
   "id": "c120224a",
   "metadata": {},
   "outputs": [
    {
     "name": "stdout",
     "output_type": "stream",
     "text": [
      "1 2 3 5 "
     ]
    }
   ],
   "source": [
    "#2D Matrix\n",
    "\n",
    "D2 = [[1, 2], [3, 5]]\n",
    "\n",
    "for i in D2:\n",
    "    for j in i:\n",
    "        print(j,end = ' ')"
   ]
  },
  {
   "cell_type": "code",
   "execution_count": 64,
   "id": "87a2abb5",
   "metadata": {},
   "outputs": [
    {
     "name": "stdout",
     "output_type": "stream",
     "text": [
      "1  2  \n",
      "3  4  \n"
     ]
    }
   ],
   "source": [
    "a = [[1, 2], [3, 4]]\n",
    "\n",
    "i = 0\n",
    "while i < 2:\n",
    "    j = 0\n",
    "    while j < 2:\n",
    "        print(a[i][j], end ='  ')\n",
    "        j = j + 1\n",
    "    i = i + 1\n",
    "    print()"
   ]
  },
  {
   "cell_type": "code",
   "execution_count": 136,
   "id": "b31feaa7",
   "metadata": {},
   "outputs": [
    {
     "name": "stdout",
     "output_type": "stream",
     "text": [
      "['Toyota', 'Maruti', 'Honda', 'BMW', 'Lotus', 'Mahindra', 'Ford', 'Tata']\n",
      "['Toyota', 'Honda', 'Lotus', 'Ford']\n"
     ]
    }
   ],
   "source": [
    "#List Comprehension \n",
    "\n",
    "cars = [\"Toyota\", \"Maruti\", \"Honda\", \"BMW\", \"Lotus\", \"Mahindra\", \"Ford\", \"Tata\"]\n",
    "newCars = []\n",
    "print(cars)\n",
    "for char in cars:\n",
    "    if 'o' in char:\n",
    "        newCars.append(char)\n",
    "        \n",
    "print(newCars)"
   ]
  },
  {
   "cell_type": "code",
   "execution_count": 150,
   "id": "afc33343",
   "metadata": {},
   "outputs": [
    {
     "name": "stdout",
     "output_type": "stream",
     "text": [
      "['Toyota', 'Maruti', 'Honda', 'Mahindra', 'Tata']\n",
      "[1, 2, 3, 4, 5, 6, 7, 8, 9, 10]\n",
      "[2, 4, 6, 8, 10]\n",
      "[1, '', 3, '', 5]\n"
     ]
    }
   ],
   "source": [
    "cars = [\"Toyota\", \"Maruti\", \"Honda\", \"BMW\", \"Lotus\", \"Mahindra\", \"Ford\", \"Tata\"]\n",
    "newCars = [char for char in cars if 'a' in char]\n",
    "\n",
    "print(newCars)\n",
    "\n",
    "sequence = [i for i in range(1, 11)]\n",
    "print(sequence)\n",
    "\n",
    "evenList = [i for i in range(1, 11) if i % 2 == 0]\n",
    "print(evenList)\n",
    "\n",
    "numbers = [1, 2, 3, 4, 5]\n",
    "oddNum = [num if num % 2 != 0 else '' for num in numbers]\n",
    "print(oddNum)"
   ]
  },
  {
   "cell_type": "code",
   "execution_count": 14,
   "id": "022cf3a5",
   "metadata": {},
   "outputs": [
    {
     "name": "stdout",
     "output_type": "stream",
     "text": [
      "[1, 2, 3, 4]\n",
      "a : 1\n",
      "b : 2\n",
      "c : 3\n",
      "d : 4\n"
     ]
    }
   ],
   "source": [
    "myList = [1, 2, 3, 4]\n",
    "a, b, c, d = myList\n",
    "print(myList)\n",
    "print('a :', a)\n",
    "print('b :', b)\n",
    "print('c :', c)\n",
    "print('d :', d)"
   ]
  },
  {
   "cell_type": "markdown",
   "id": "3bf4beba",
   "metadata": {},
   "source": [
    "#### Tuple "
   ]
  },
  {
   "cell_type": "code",
   "execution_count": 65,
   "id": "2d965743",
   "metadata": {},
   "outputs": [
    {
     "name": "stdout",
     "output_type": "stream",
     "text": [
      "Original Tuple\t: (6, 12, 3, 8)\n",
      "Sorted Tuple\t: [3, 6, 8, 12]\n",
      "Sorted Tuple\t: [3, 6, 8, 12]\n",
      "Sorted Tuple\t: [12, 8, 6, 3]\n"
     ]
    }
   ],
   "source": [
    "#sorted()\n",
    "\n",
    "myTuple = (6, 12, 3, 8)\n",
    "print(f'Original Tuple\\t: {myTuple}')\n",
    "print(f'Sorted Tuple\\t: {sorted(myTuple)}')\n",
    "\n",
    "sortedTuple = sorted(myTuple)\n",
    "print(f'Sorted Tuple\\t: {sortedTuple}')\n",
    "\n",
    "print(f'Sorted Tuple\\t: {sorted(myTuple, reverse = True)}')"
   ]
  },
  {
   "cell_type": "code",
   "execution_count": 69,
   "id": "afa01455",
   "metadata": {},
   "outputs": [
    {
     "name": "stdout",
     "output_type": "stream",
     "text": [
      "54\n",
      "5 + 4\n",
      "9\n",
      "54\n"
     ]
    }
   ],
   "source": [
    "#count()\n",
    "#min()\n",
    "#max()\n",
    "#index()\n",
    "#sorted()\n",
    "#len()\n",
    "#copy()\n",
    "\n",
    "print('5'+'4')\n",
    "print('5 + 4')\n",
    "print(eval('5 + 4'))\n",
    "print(eval('5'+'4'))"
   ]
  },
  {
   "cell_type": "code",
   "execution_count": 72,
   "id": "ee58c202",
   "metadata": {},
   "outputs": [
    {
     "name": "stdout",
     "output_type": "stream",
     "text": [
      "<class 'int'>\n",
      "<class 'tuple'>\n",
      "(1, 2)\n"
     ]
    }
   ],
   "source": [
    "rec = (1)\n",
    "print(type(rec))\n",
    "\n",
    "rec = 1, \n",
    "print(type(rec))\n",
    "\n",
    "rec = 1, 2\n",
    "print(rec)"
   ]
  },
  {
   "cell_type": "code",
   "execution_count": 75,
   "id": "501b6018",
   "metadata": {},
   "outputs": [
    {
     "name": "stdout",
     "output_type": "stream",
     "text": [
      "Input : 1, 2, 3\n",
      "myTuple : (1, 2, 3), <class 'tuple'>\n"
     ]
    }
   ],
   "source": [
    "myTuple = eval(input('Input : '))\n",
    "\n",
    "print(f'myTuple : {myTuple}, {type(myTuple)}')"
   ]
  },
  {
   "cell_type": "markdown",
   "id": "e3907f0f",
   "metadata": {},
   "source": [
    "#### Dictionary "
   ]
  },
  {
   "cell_type": "code",
   "execution_count": 79,
   "id": "d6ddd508",
   "metadata": {},
   "outputs": [
    {
     "name": "stdout",
     "output_type": "stream",
     "text": [
      "Enter the number of elements you want to insert : 2\n",
      "Roll No : 1\n",
      "Name : Shyam\n",
      "Roll No : 2\n",
      "Name : Geeta\n",
      "record : {'1': 'Shyam', '2': 'Geeta'}\n",
      "1 - Shyam\n",
      "2 - Geeta\n"
     ]
    }
   ],
   "source": [
    "#dict()\n",
    "\n",
    "record = dict()\n",
    "\n",
    "n = int(input(\"Enter the number of elements you want to insert : \"))\n",
    "\n",
    "for i in range(n):\n",
    "    roll_no = input(\"Roll No : \")\n",
    "    name = input(\"Name : \")\n",
    "    record[roll_no] = name\n",
    "    \n",
    "\n",
    "print(f'record : {record}')\n",
    "\n",
    "for i in record:\n",
    "    print(i, \"-\",record[i])"
   ]
  },
  {
   "cell_type": "code",
   "execution_count": 119,
   "id": "24640fac",
   "metadata": {},
   "outputs": [
    {
     "name": "stdout",
     "output_type": "stream",
     "text": [
      "{1: 'Apple', 'Box': 'Rectangle', 'Items': ('A', 'B'), 4: 'Mango'}\n",
      "{1: 'Apple', 'Box': 'Rectangle', 'Items': ('A', 'B')}\n",
      "A\n",
      "t\n",
      "dict_keys([1, 'Box', 'Items'])\n",
      "dict_values(['Apple', 'Rectangle', ('A', 'B')])\n",
      "dict_items([(1, 'Apple'), ('Box', 'Rectangle'), ('Items', ('A', 'B'))])\n",
      "----------------------------------------------------------------------\n",
      "Key\t: Value\n",
      "1\t: Apple\n",
      "Box\t: Rectangle\n",
      "Items\t: ('A', 'B')\n",
      "----------------------------------------------------------------------\n",
      "{'Box': 'Rectangle', 'Items': ('A', 'B')}\n",
      "{'Box': 'Circle', 'Items': ('A', 'B')}\n",
      "{'Box': 'Square', 'Items': ('A', 'B')}\n",
      "['Items', 'Box']\n",
      "{}\n"
     ]
    },
    {
     "ename": "NameError",
     "evalue": "name 'record' is not defined",
     "output_type": "error",
     "traceback": [
      "\u001b[1;31m---------------------------------------------------------------------------\u001b[0m",
      "\u001b[1;31mNameError\u001b[0m                                 Traceback (most recent call last)",
      "\u001b[1;32m~\\AppData\\Local\\Temp\\ipykernel_22768\\278443379.py\u001b[0m in \u001b[0;36m<module>\u001b[1;34m\u001b[0m\n\u001b[0;32m     51\u001b[0m \u001b[1;33m\u001b[0m\u001b[0m\n\u001b[0;32m     52\u001b[0m \u001b[1;32mdel\u001b[0m \u001b[0mrecord\u001b[0m\u001b[1;33m\u001b[0m\u001b[1;33m\u001b[0m\u001b[0m\n\u001b[1;32m---> 53\u001b[1;33m \u001b[0mprint\u001b[0m\u001b[1;33m(\u001b[0m\u001b[0mrecord\u001b[0m\u001b[1;33m)\u001b[0m\u001b[1;33m\u001b[0m\u001b[1;33m\u001b[0m\u001b[0m\n\u001b[0m",
      "\u001b[1;31mNameError\u001b[0m: name 'record' is not defined"
     ]
    }
   ],
   "source": [
    "#keys()\n",
    "#values()\n",
    "#pop(x)\n",
    "#popitem()\n",
    "#items()\n",
    "#update()\n",
    "#clear()\n",
    "#copy()\n",
    "#sorted()\n",
    "#del dict_name[key]\n",
    "\n",
    "record = {1:\"Apple\", 2:\"Banana\", 'Box' : 'Rectangle', 'Items' : ('A', 'B'), 4:\"Mango\"}\n",
    "\n",
    "record.pop(2)\n",
    "print(record)\n",
    "\n",
    "record.popitem()\n",
    "print(record)\n",
    "\n",
    "print(record[\"Items\"][0])\n",
    "print(record[\"Box\"][3])\n",
    "\n",
    "print(record.keys())\n",
    "print(record.values())\n",
    "\n",
    "dictPair = record.items()\n",
    "print(dictPair)\n",
    "print('-'*70)\n",
    "print(f'Key\\t: Value')\n",
    "for key, value in dictPair:\n",
    "    print(f'{key}\\t: {value}')\n",
    "print('-'*70)\n",
    "del record[1]\n",
    "print(record)\n",
    "\n",
    "record[\"Box\"] = \"Circle\"\n",
    "print(record)\n",
    "\n",
    "record.update({'Box' : 'Square'})\n",
    "print(record)\n",
    "\n",
    "print(sorted(record, reverse = True))\n",
    "\n",
    "#record.pop('Key')     : KeyError\n",
    "#del record[\"Key\"]     : KeyError\n",
    "\n",
    "record.pop('Key', 'KeyNotFound')\n",
    "\n",
    "record.clear()\n",
    "print(record)\n",
    "\n",
    "del record\n",
    "print(record)"
   ]
  },
  {
   "cell_type": "markdown",
   "id": "5d074ed4",
   "metadata": {},
   "source": [
    "#### Set "
   ]
  },
  {
   "cell_type": "code",
   "execution_count": 133,
   "id": "f07b7d6f",
   "metadata": {},
   "outputs": [
    {
     "name": "stdout",
     "output_type": "stream",
     "text": [
      "{4, 5, 6}\n",
      "{1, 2, 3}\n",
      "set()\n",
      "{'Banana'}\n",
      "{'Banana', 'Mango', 'Papaya'}\n",
      "{'Banana', 'Mango'}\n",
      "{'Banana'}\n",
      "{1, 2, 3, 4, 5, 6, 7, 8}\n",
      "{2, 3, 4, 5, 6, 7, 8}\n"
     ]
    },
    {
     "ename": "TypeError",
     "evalue": "set.pop() takes no arguments (1 given)",
     "output_type": "error",
     "traceback": [
      "\u001b[1;31m---------------------------------------------------------------------------\u001b[0m",
      "\u001b[1;31mTypeError\u001b[0m                                 Traceback (most recent call last)",
      "\u001b[1;32m~\\AppData\\Local\\Temp\\ipykernel_22768\\788843998.py\u001b[0m in \u001b[0;36m<module>\u001b[1;34m\u001b[0m\n\u001b[0;32m     38\u001b[0m \u001b[0mprint\u001b[0m\u001b[1;33m(\u001b[0m\u001b[0mSet\u001b[0m\u001b[1;33m)\u001b[0m\u001b[1;33m\u001b[0m\u001b[1;33m\u001b[0m\u001b[0m\n\u001b[0;32m     39\u001b[0m \u001b[1;33m\u001b[0m\u001b[0m\n\u001b[1;32m---> 40\u001b[1;33m \u001b[0mSet\u001b[0m\u001b[1;33m.\u001b[0m\u001b[0mpop\u001b[0m\u001b[1;33m(\u001b[0m\u001b[1;36m5\u001b[0m\u001b[1;33m)\u001b[0m\u001b[1;33m\u001b[0m\u001b[1;33m\u001b[0m\u001b[0m\n\u001b[0m\u001b[0;32m     41\u001b[0m \u001b[0mprint\u001b[0m\u001b[1;33m(\u001b[0m\u001b[0mSet\u001b[0m\u001b[1;33m)\u001b[0m\u001b[1;33m\u001b[0m\u001b[1;33m\u001b[0m\u001b[0m\n",
      "\u001b[1;31mTypeError\u001b[0m: set.pop() takes no arguments (1 given)"
     ]
    }
   ],
   "source": [
    "#set()\n",
    "#add()\n",
    "#update()\n",
    "#remove()\n",
    "#discard()\n",
    "#clear()\n",
    "#copy()\n",
    "#pop()\n",
    "\n",
    "Set = {1, 2, 4}\n",
    "Set = {4, 5, 6}\n",
    "print(Set)\n",
    "\n",
    "Set = set((1, 2, 3))\n",
    "print(Set)\n",
    "\n",
    "Set.clear()\n",
    "print(Set)\n",
    "\n",
    "Set.add(\"Banana\")\n",
    "print(Set)\n",
    "\n",
    "updateItems = {\"Papaya\", \"Mango\"}\n",
    "\n",
    "Set.update(updateItems)\n",
    "print(Set)\n",
    "\n",
    "Set.remove(\"Papaya\")\n",
    "print(Set)\n",
    "\n",
    "Set.discard(\"Mango\")\n",
    "print(Set)\n",
    "\n",
    "Set = {1, 2, 3, 4, 4, 5, 6, 7,8}\n",
    "print(Set)\n",
    "\n",
    "Set.pop()\n",
    "print(Set)\n",
    "\n",
    "Set.pop(5)       #TypeError\n",
    "print(Set)"
   ]
  },
  {
   "cell_type": "markdown",
   "id": "6ed01a00",
   "metadata": {},
   "source": [
    "#### String "
   ]
  },
  {
   "cell_type": "code",
   "execution_count": 13,
   "id": "e165f6e3",
   "metadata": {},
   "outputs": [
    {
     "name": "stdout",
     "output_type": "stream",
     "text": [
      "['h', 'e', 'l', 'l', 'o']\n"
     ]
    }
   ],
   "source": [
    "String = \"h e l l o\"\n",
    "print(String.split())"
   ]
  },
  {
   "cell_type": "markdown",
   "id": "e71677d8",
   "metadata": {},
   "source": [
    "#### Functions "
   ]
  },
  {
   "cell_type": "code",
   "execution_count": 1,
   "id": "853f21d5",
   "metadata": {},
   "outputs": [
    {
     "name": "stdout",
     "output_type": "stream",
     "text": [
      "id(x) - 3064484489648\n"
     ]
    }
   ],
   "source": [
    "#Built-in\n",
    "\n",
    "x = 5\n",
    "print(f'id(x) - {id(x)}')"
   ]
  },
  {
   "cell_type": "code",
   "execution_count": 4,
   "id": "a3bca093",
   "metadata": {},
   "outputs": [
    {
     "name": "stdout",
     "output_type": "stream",
     "text": [
      "n : 5\n",
      "120\n",
      "Help on built-in module math:\n",
      "\n",
      "NAME\n",
      "    math\n",
      "\n",
      "DESCRIPTION\n",
      "    This module provides access to the mathematical functions\n",
      "    defined by the C standard.\n",
      "\n",
      "FUNCTIONS\n",
      "    acos(x, /)\n",
      "        Return the arc cosine (measured in radians) of x.\n",
      "        \n",
      "        The result is between 0 and pi.\n",
      "    \n",
      "    acosh(x, /)\n",
      "        Return the inverse hyperbolic cosine of x.\n",
      "    \n",
      "    asin(x, /)\n",
      "        Return the arc sine (measured in radians) of x.\n",
      "        \n",
      "        The result is between -pi/2 and pi/2.\n",
      "    \n",
      "    asinh(x, /)\n",
      "        Return the inverse hyperbolic sine of x.\n",
      "    \n",
      "    atan(x, /)\n",
      "        Return the arc tangent (measured in radians) of x.\n",
      "        \n",
      "        The result is between -pi/2 and pi/2.\n",
      "    \n",
      "    atan2(y, x, /)\n",
      "        Return the arc tangent (measured in radians) of y/x.\n",
      "        \n",
      "        Unlike atan(y/x), the signs of both x and y are considered.\n",
      "    \n",
      "    atanh(x, /)\n",
      "        Return the inverse hyperbolic tangent of x.\n",
      "    \n",
      "    ceil(x, /)\n",
      "        Return the ceiling of x as an Integral.\n",
      "        \n",
      "        This is the smallest integer >= x.\n",
      "    \n",
      "    comb(n, k, /)\n",
      "        Number of ways to choose k items from n items without repetition and without order.\n",
      "        \n",
      "        Evaluates to n! / (k! * (n - k)!) when k <= n and evaluates\n",
      "        to zero when k > n.\n",
      "        \n",
      "        Also called the binomial coefficient because it is equivalent\n",
      "        to the coefficient of k-th term in polynomial expansion of the\n",
      "        expression (1 + x)**n.\n",
      "        \n",
      "        Raises TypeError if either of the arguments are not integers.\n",
      "        Raises ValueError if either of the arguments are negative.\n",
      "    \n",
      "    copysign(x, y, /)\n",
      "        Return a float with the magnitude (absolute value) of x but the sign of y.\n",
      "        \n",
      "        On platforms that support signed zeros, copysign(1.0, -0.0)\n",
      "        returns -1.0.\n",
      "    \n",
      "    cos(x, /)\n",
      "        Return the cosine of x (measured in radians).\n",
      "    \n",
      "    cosh(x, /)\n",
      "        Return the hyperbolic cosine of x.\n",
      "    \n",
      "    degrees(x, /)\n",
      "        Convert angle x from radians to degrees.\n",
      "    \n",
      "    dist(p, q, /)\n",
      "        Return the Euclidean distance between two points p and q.\n",
      "        \n",
      "        The points should be specified as sequences (or iterables) of\n",
      "        coordinates.  Both inputs must have the same dimension.\n",
      "        \n",
      "        Roughly equivalent to:\n",
      "            sqrt(sum((px - qx) ** 2.0 for px, qx in zip(p, q)))\n",
      "    \n",
      "    erf(x, /)\n",
      "        Error function at x.\n",
      "    \n",
      "    erfc(x, /)\n",
      "        Complementary error function at x.\n",
      "    \n",
      "    exp(x, /)\n",
      "        Return e raised to the power of x.\n",
      "    \n",
      "    expm1(x, /)\n",
      "        Return exp(x)-1.\n",
      "        \n",
      "        This function avoids the loss of precision involved in the direct evaluation of exp(x)-1 for small x.\n",
      "    \n",
      "    fabs(x, /)\n",
      "        Return the absolute value of the float x.\n",
      "    \n",
      "    factorial(x, /)\n",
      "        Find x!.\n",
      "        \n",
      "        Raise a ValueError if x is negative or non-integral.\n",
      "    \n",
      "    floor(x, /)\n",
      "        Return the floor of x as an Integral.\n",
      "        \n",
      "        This is the largest integer <= x.\n",
      "    \n",
      "    fmod(x, y, /)\n",
      "        Return fmod(x, y), according to platform C.\n",
      "        \n",
      "        x % y may differ.\n",
      "    \n",
      "    frexp(x, /)\n",
      "        Return the mantissa and exponent of x, as pair (m, e).\n",
      "        \n",
      "        m is a float and e is an int, such that x = m * 2.**e.\n",
      "        If x is 0, m and e are both 0.  Else 0.5 <= abs(m) < 1.0.\n",
      "    \n",
      "    fsum(seq, /)\n",
      "        Return an accurate floating point sum of values in the iterable seq.\n",
      "        \n",
      "        Assumes IEEE-754 floating point arithmetic.\n",
      "    \n",
      "    gamma(x, /)\n",
      "        Gamma function at x.\n",
      "    \n",
      "    gcd(*integers)\n",
      "        Greatest Common Divisor.\n",
      "    \n",
      "    hypot(...)\n",
      "        hypot(*coordinates) -> value\n",
      "        \n",
      "        Multidimensional Euclidean distance from the origin to a point.\n",
      "        \n",
      "        Roughly equivalent to:\n",
      "            sqrt(sum(x**2 for x in coordinates))\n",
      "        \n",
      "        For a two dimensional point (x, y), gives the hypotenuse\n",
      "        using the Pythagorean theorem:  sqrt(x*x + y*y).\n",
      "        \n",
      "        For example, the hypotenuse of a 3/4/5 right triangle is:\n",
      "        \n",
      "            >>> hypot(3.0, 4.0)\n",
      "            5.0\n",
      "    \n",
      "    isclose(a, b, *, rel_tol=1e-09, abs_tol=0.0)\n",
      "        Determine whether two floating point numbers are close in value.\n",
      "        \n",
      "          rel_tol\n",
      "            maximum difference for being considered \"close\", relative to the\n",
      "            magnitude of the input values\n",
      "          abs_tol\n",
      "            maximum difference for being considered \"close\", regardless of the\n",
      "            magnitude of the input values\n",
      "        \n",
      "        Return True if a is close in value to b, and False otherwise.\n",
      "        \n",
      "        For the values to be considered close, the difference between them\n",
      "        must be smaller than at least one of the tolerances.\n",
      "        \n",
      "        -inf, inf and NaN behave similarly to the IEEE 754 Standard.  That\n",
      "        is, NaN is not close to anything, even itself.  inf and -inf are\n",
      "        only close to themselves.\n",
      "    \n",
      "    isfinite(x, /)\n",
      "        Return True if x is neither an infinity nor a NaN, and False otherwise.\n",
      "    \n",
      "    isinf(x, /)\n",
      "        Return True if x is a positive or negative infinity, and False otherwise.\n",
      "    \n",
      "    isnan(x, /)\n",
      "        Return True if x is a NaN (not a number), and False otherwise.\n",
      "    \n",
      "    isqrt(n, /)\n",
      "        Return the integer part of the square root of the input.\n",
      "    \n",
      "    lcm(*integers)\n",
      "        Least Common Multiple.\n",
      "    \n",
      "    ldexp(x, i, /)\n",
      "        Return x * (2**i).\n",
      "        \n",
      "        This is essentially the inverse of frexp().\n",
      "    \n",
      "    lgamma(x, /)\n",
      "        Natural logarithm of absolute value of Gamma function at x.\n",
      "    \n",
      "    log(...)\n",
      "        log(x, [base=math.e])\n",
      "        Return the logarithm of x to the given base.\n",
      "        \n",
      "        If the base not specified, returns the natural logarithm (base e) of x.\n",
      "    \n",
      "    log10(x, /)\n",
      "        Return the base 10 logarithm of x.\n",
      "    \n",
      "    log1p(x, /)\n",
      "        Return the natural logarithm of 1+x (base e).\n",
      "        \n",
      "        The result is computed in a way which is accurate for x near zero.\n",
      "    \n",
      "    log2(x, /)\n",
      "        Return the base 2 logarithm of x.\n",
      "    \n",
      "    modf(x, /)\n",
      "        Return the fractional and integer parts of x.\n",
      "        \n",
      "        Both results carry the sign of x and are floats.\n",
      "    \n",
      "    nextafter(x, y, /)\n",
      "        Return the next floating-point value after x towards y.\n",
      "    \n",
      "    perm(n, k=None, /)\n",
      "        Number of ways to choose k items from n items without repetition and with order.\n",
      "        \n",
      "        Evaluates to n! / (n - k)! when k <= n and evaluates\n",
      "        to zero when k > n.\n",
      "        \n",
      "        If k is not specified or is None, then k defaults to n\n",
      "        and the function returns n!.\n",
      "        \n",
      "        Raises TypeError if either of the arguments are not integers.\n",
      "        Raises ValueError if either of the arguments are negative.\n",
      "    \n",
      "    pow(x, y, /)\n",
      "        Return x**y (x to the power of y).\n",
      "    \n",
      "    prod(iterable, /, *, start=1)\n",
      "        Calculate the product of all the elements in the input iterable.\n",
      "        \n",
      "        The default start value for the product is 1.\n",
      "        \n",
      "        When the iterable is empty, return the start value.  This function is\n",
      "        intended specifically for use with numeric values and may reject\n",
      "        non-numeric types.\n",
      "    \n",
      "    radians(x, /)\n",
      "        Convert angle x from degrees to radians.\n",
      "    \n",
      "    remainder(x, y, /)\n",
      "        Difference between x and the closest integer multiple of y.\n",
      "        \n",
      "        Return x - n*y where n*y is the closest integer multiple of y.\n",
      "        In the case where x is exactly halfway between two multiples of\n",
      "        y, the nearest even value of n is used. The result is always exact.\n",
      "    \n",
      "    sin(x, /)\n",
      "        Return the sine of x (measured in radians).\n",
      "    \n",
      "    sinh(x, /)\n",
      "        Return the hyperbolic sine of x.\n",
      "    \n",
      "    sqrt(x, /)\n",
      "        Return the square root of x.\n",
      "    \n",
      "    tan(x, /)\n",
      "        Return the tangent of x (measured in radians).\n",
      "    \n",
      "    tanh(x, /)\n",
      "        Return the hyperbolic tangent of x.\n",
      "    \n",
      "    trunc(x, /)\n",
      "        Truncates the Real x to the nearest Integral toward 0.\n",
      "        \n",
      "        Uses the __trunc__ magic method.\n",
      "    \n",
      "    ulp(x, /)\n",
      "        Return the value of the least significant bit of the float x.\n",
      "\n",
      "DATA\n",
      "    e = 2.718281828459045\n",
      "    inf = inf\n",
      "    nan = nan\n",
      "    pi = 3.141592653589793\n",
      "    tau = 6.283185307179586\n",
      "\n",
      "FILE\n",
      "    (built-in)\n",
      "\n",
      "\n"
     ]
    },
    {
     "data": {
      "text/plain": [
       "['__doc__',\n",
       " '__loader__',\n",
       " '__name__',\n",
       " '__package__',\n",
       " '__spec__',\n",
       " 'acos',\n",
       " 'acosh',\n",
       " 'asin',\n",
       " 'asinh',\n",
       " 'atan',\n",
       " 'atan2',\n",
       " 'atanh',\n",
       " 'ceil',\n",
       " 'comb',\n",
       " 'copysign',\n",
       " 'cos',\n",
       " 'cosh',\n",
       " 'degrees',\n",
       " 'dist',\n",
       " 'e',\n",
       " 'erf',\n",
       " 'erfc',\n",
       " 'exp',\n",
       " 'expm1',\n",
       " 'fabs',\n",
       " 'factorial',\n",
       " 'floor',\n",
       " 'fmod',\n",
       " 'frexp',\n",
       " 'fsum',\n",
       " 'gamma',\n",
       " 'gcd',\n",
       " 'hypot',\n",
       " 'inf',\n",
       " 'isclose',\n",
       " 'isfinite',\n",
       " 'isinf',\n",
       " 'isnan',\n",
       " 'isqrt',\n",
       " 'lcm',\n",
       " 'ldexp',\n",
       " 'lgamma',\n",
       " 'log',\n",
       " 'log10',\n",
       " 'log1p',\n",
       " 'log2',\n",
       " 'modf',\n",
       " 'nan',\n",
       " 'nextafter',\n",
       " 'perm',\n",
       " 'pi',\n",
       " 'pow',\n",
       " 'prod',\n",
       " 'radians',\n",
       " 'remainder',\n",
       " 'sin',\n",
       " 'sinh',\n",
       " 'sqrt',\n",
       " 'tan',\n",
       " 'tanh',\n",
       " 'tau',\n",
       " 'trunc',\n",
       " 'ulp']"
      ]
     },
     "execution_count": 4,
     "metadata": {},
     "output_type": "execute_result"
    }
   ],
   "source": [
    "#Library/Package/Module\n",
    "\n",
    "import math\n",
    "\n",
    "help(math)\n",
    "dir(math)"
   ]
  },
  {
   "cell_type": "code",
   "execution_count": 6,
   "id": "f248ff3c",
   "metadata": {},
   "outputs": [
    {
     "name": "stdout",
     "output_type": "stream",
     "text": [
      "n : 5\n",
      "factorial of 5 : 120\n"
     ]
    }
   ],
   "source": [
    "import math\n",
    "\n",
    "n = int(input('n : '))\n",
    "print(f'factorial of {n} : {math.factorial(n)}')"
   ]
  },
  {
   "cell_type": "code",
   "execution_count": 7,
   "id": "4d7003af",
   "metadata": {},
   "outputs": [
    {
     "name": "stdout",
     "output_type": "stream",
     "text": [
      "n : 6\n",
      "factorial of 6 : 720\n"
     ]
    }
   ],
   "source": [
    "from math import *\n",
    "\n",
    "n = int(input('n : '))\n",
    "print(f'factorial of {n} : {factorial(n)}')"
   ]
  },
  {
   "cell_type": "code",
   "execution_count": 8,
   "id": "6c902f1f",
   "metadata": {},
   "outputs": [
    {
     "name": "stdout",
     "output_type": "stream",
     "text": [
      "n : 5\n",
      "factorial of 5 : 120\n"
     ]
    }
   ],
   "source": [
    "from math import factorial\n",
    "\n",
    "n = int(input('n : '))\n",
    "print(f'factorial of {n} : {factorial(n)}')"
   ]
  },
  {
   "cell_type": "code",
   "execution_count": 10,
   "id": "19434089",
   "metadata": {},
   "outputs": [
    {
     "name": "stdout",
     "output_type": "stream",
     "text": [
      "n : 5\n",
      "factorial of 5 : 120\n"
     ]
    }
   ],
   "source": [
    "import math as m\n",
    "\n",
    "n = int(input('n : '))\n",
    "print(f'factorial of {n} : {m.factorial(n)}')"
   ]
  },
  {
   "cell_type": "code",
   "execution_count": 11,
   "id": "f3a5f90d",
   "metadata": {},
   "outputs": [
    {
     "name": "stdout",
     "output_type": "stream",
     "text": [
      "n : 5\n",
      "factorial of 5 : 120\n"
     ]
    }
   ],
   "source": [
    "from math import factorial as fact\n",
    "\n",
    "n = int(input('n : '))\n",
    "print(f'factorial of {n} : {fact(n)}')"
   ]
  },
  {
   "cell_type": "code",
   "execution_count": 12,
   "id": "6025fb7d",
   "metadata": {},
   "outputs": [
    {
     "name": "stdout",
     "output_type": "stream",
     "text": [
      "factorial of 0\t:  1\n",
      "factorial of 1\t:  1\n",
      "factorial of 2\t:  2\n",
      "factorial of 3\t:  6\n",
      "factorial of 4\t:  24\n",
      "factorial of 5\t:  120\n",
      "factorial of 6\t:  720\n",
      "factorial of 7\t:  5040\n",
      "factorial of 8\t:  40320\n",
      "factorial of 9\t:  362880\n",
      "factorial of 10\t:  3628800\n"
     ]
    }
   ],
   "source": [
    "from math import factorial as f\n",
    "\n",
    "for i in range(11):\n",
    "    print(f'factorial of {i}\\t:  {f(i)}')"
   ]
  },
  {
   "cell_type": "code",
   "execution_count": 17,
   "id": "3b45eef8",
   "metadata": {},
   "outputs": [
    {
     "name": "stdout",
     "output_type": "stream",
     "text": [
      "Hello World!\n",
      "Hello World!\n",
      "None\n"
     ]
    }
   ],
   "source": [
    "#user-defined\n",
    "#function with no args and no return\n",
    "def greet():\n",
    "    print(\"Hello World!\")\n",
    "\n",
    "greet()\n",
    "\n",
    "x = greet()\n",
    "print(x)"
   ]
  },
  {
   "cell_type": "code",
   "execution_count": 20,
   "id": "dfcfd007",
   "metadata": {},
   "outputs": [
    {
     "name": "stdout",
     "output_type": "stream",
     "text": [
      "5\n",
      "5\n",
      "30\n",
      "30\n"
     ]
    }
   ],
   "source": [
    "#function with no args and return\n",
    "\n",
    "def Square():\n",
    "    n = input()\n",
    "    return int(n) * int(n)\n",
    "\n",
    "x = Square()\n",
    "print(Square() + 5)\n",
    "print(x + 5)"
   ]
  },
  {
   "cell_type": "code",
   "execution_count": 22,
   "id": "e176e461",
   "metadata": {},
   "outputs": [
    {
     "name": "stdout",
     "output_type": "stream",
     "text": [
      "5\n",
      "25\n",
      "100\n",
      "None\n"
     ]
    }
   ],
   "source": [
    "#function with args and no return\n",
    "\n",
    "def Square(x):\n",
    "    print(x * x)\n",
    "    \n",
    "n = int(input())\n",
    "Square(n)\n",
    "\n",
    "temp = Square(10)\n",
    "print(temp)"
   ]
  },
  {
   "cell_type": "code",
   "execution_count": 23,
   "id": "bd3ea9a9",
   "metadata": {},
   "outputs": [
    {
     "name": "stdout",
     "output_type": "stream",
     "text": [
      "53\n",
      "53 is odd\n"
     ]
    }
   ],
   "source": [
    "#even-odd\n",
    "def check_even(x):\n",
    "    if x % 2 == 0:\n",
    "        print(f'{x} is even')\n",
    "    else:\n",
    "        print(f'{x} is odd')\n",
    "\n",
    "n = input()\n",
    "check_even(int(n))"
   ]
  },
  {
   "cell_type": "code",
   "execution_count": 30,
   "id": "da796c99",
   "metadata": {},
   "outputs": [
    {
     "name": "stdout",
     "output_type": "stream",
     "text": [
      "5 2\n",
      "10\n",
      "Sum : 7\n"
     ]
    }
   ],
   "source": [
    "#function with args and return\n",
    "\n",
    "def add(x, y):\n",
    "    return x + y\n",
    "\n",
    "#add(5, 2)\n",
    "a, b = map(int, input().split())\n",
    "#a, b = list(map(int, input().split()))\n",
    "#a, b, c, d, e = map(int, input().split())\n",
    "#a, b, *other = map(int, input().split())\n",
    "print(add(a, 5))\n",
    "\n",
    "Sum = add(a, b)\n",
    "print('Sum :', Sum)"
   ]
  },
  {
   "cell_type": "code",
   "execution_count": 34,
   "id": "684668fc",
   "metadata": {},
   "outputs": [
    {
     "name": "stdout",
     "output_type": "stream",
     "text": [
      "5\n",
      "120\n"
     ]
    }
   ],
   "source": [
    "#factorial\n",
    "\n",
    "def factorial(n):\n",
    "    fact = 1\n",
    "    for i in range(n, 1, -1):\n",
    "        fact *= i\n",
    "    return fact\n",
    "\n",
    "x = input()\n",
    "factorial(int(x))    #It will not print the result in Scripting Mode\n",
    "\n",
    "print(factorial(5))\n",
    "result = factorial(int(x))"
   ]
  },
  {
   "cell_type": "code",
   "execution_count": 37,
   "id": "0b6f33ee",
   "metadata": {},
   "outputs": [
    {
     "name": "stdout",
     "output_type": "stream",
     "text": [
      "6 3\n",
      "nCr == 6C3 : 20.0\n"
     ]
    }
   ],
   "source": [
    "#Combinatorics : nCr\n",
    "#x : parameter\n",
    "#n : global variable\n",
    "#factorial(n) : \n",
    "#          n  : argument\n",
    "def factorial(x):               \n",
    "    fact = 1\n",
    "    for i in range(n, 1, -1):\n",
    "        fact *= i\n",
    "    return fact\n",
    "\n",
    "n, r = map(int, input().split())\n",
    "nCr = (factorial(n)/(factorial(r) * factorial(n-r)))   #20.0\n",
    "nCr = (factorial(n)//(factorial(r) * factorial(n-r)))  #20\n",
    "print(f'nCr == {n}C{r} : {nCr}')"
   ]
  },
  {
   "cell_type": "code",
   "execution_count": 39,
   "id": "982df8df",
   "metadata": {},
   "outputs": [
    {
     "name": "stdout",
     "output_type": "stream",
     "text": [
      "3\n",
      "3\n"
     ]
    }
   ],
   "source": [
    "#positional argument\n",
    "\n",
    "def add(x, y):\n",
    "    return x + y\n",
    "\n",
    "result1 = add(2, -5)\n",
    "result2 = add(-5, 2)\n",
    "\n",
    "print(f'{result1}\\n{result2}')"
   ]
  },
  {
   "cell_type": "code",
   "execution_count": 41,
   "id": "f2e710b9",
   "metadata": {},
   "outputs": [
    {
     "name": "stdout",
     "output_type": "stream",
     "text": [
      "Simple Interest : 50.0\n"
     ]
    }
   ],
   "source": [
    "#default argument\n",
    "\n",
    "def simple_interest(price, rate, time = 4):\n",
    "    return (price * rate * time)/100\n",
    "\n",
    "SimpleInterest = simple_interest(500, 2 ,5)\n",
    "print(f'Simple Interest : {SimpleInterest}')"
   ]
  },
  {
   "cell_type": "code",
   "execution_count": 42,
   "id": "400903a1",
   "metadata": {},
   "outputs": [
    {
     "name": "stdout",
     "output_type": "stream",
     "text": [
      "Simple Interest : 40.0\n"
     ]
    }
   ],
   "source": [
    "#default argument\n",
    "\n",
    "def simple_interest(price, rate, time = 4):\n",
    "    return (price * rate * time)/100\n",
    "\n",
    "SimpleInterest = simple_interest(500, 2)\n",
    "print(f'Simple Interest : {SimpleInterest}')"
   ]
  },
  {
   "cell_type": "code",
   "execution_count": 43,
   "id": "6f607b10",
   "metadata": {},
   "outputs": [
    {
     "name": "stdout",
     "output_type": "stream",
     "text": [
      "Simple Interest : 40.0\n"
     ]
    }
   ],
   "source": [
    "#default argument case study\n",
    "\n",
    "def simple_interest(price, rate = 2, time = 4):\n",
    "    return (price * rate * time)/100\n",
    "\n",
    "SimpleInterest = simple_interest(500, 2)\n",
    "print(f'Simple Interest : {SimpleInterest}')"
   ]
  },
  {
   "cell_type": "code",
   "execution_count": 44,
   "id": "8f19a0e4",
   "metadata": {},
   "outputs": [
    {
     "ename": "SyntaxError",
     "evalue": "non-default argument follows default argument (3657574636.py, line 4)",
     "output_type": "error",
     "traceback": [
      "\u001b[1;36m  File \u001b[1;32m\"C:\\Users\\kuwar\\AppData\\Local\\Temp\\ipykernel_4164\\3657574636.py\"\u001b[1;36m, line \u001b[1;32m4\u001b[0m\n\u001b[1;33m    def simple_interest(price, rate = 3, time):\u001b[0m\n\u001b[1;37m                                             ^\u001b[0m\n\u001b[1;31mSyntaxError\u001b[0m\u001b[1;31m:\u001b[0m non-default argument follows default argument\n"
     ]
    }
   ],
   "source": [
    "#default argument case study\n",
    "#default arg should be the last arg\n",
    "\n",
    "def simple_interest(price, rate = 3, time):\n",
    "    return (price * rate * time)/100\n",
    "\n",
    "SimpleInterest = simple_interest(500, 4)\n",
    "print(f'Simple Interest : {SimpleInterest}')    #SyntaxError"
   ]
  },
  {
   "cell_type": "code",
   "execution_count": 49,
   "id": "1cadb98d",
   "metadata": {},
   "outputs": [
    {
     "name": "stdout",
     "output_type": "stream",
     "text": [
      "We are going to understand Doc String\n",
      "We are going to understand Doc StringWe are going to understand Doc String\n"
     ]
    }
   ],
   "source": [
    "#LEGB : Rule\n",
    "\n",
    "print(__doc__)\n",
    "\"\"\"We are going to understand Doc String\"\"\"\n",
    "print(__doc__)"
   ]
  },
  {
   "cell_type": "code",
   "execution_count": 50,
   "id": "06829e99",
   "metadata": {},
   "outputs": [
    {
     "name": "stdout",
     "output_type": "stream",
     "text": [
      "25\n"
     ]
    }
   ],
   "source": [
    "#normal function\n",
    "\n",
    "def Square(x):\n",
    "    return x * x\n",
    "\n",
    "print(Square(5))"
   ]
  },
  {
   "cell_type": "code",
   "execution_count": 51,
   "id": "dd1a13f4",
   "metadata": {},
   "outputs": [
    {
     "name": "stdout",
     "output_type": "stream",
     "text": [
      "25\n"
     ]
    }
   ],
   "source": [
    "#lambda function : Anonymous\n",
    "\n",
    "#lambda x : x * x\n",
    "Square = lambda x : x * x\n",
    "print(Square(5))"
   ]
  },
  {
   "cell_type": "code",
   "execution_count": 55,
   "id": "9b3bffaa",
   "metadata": {},
   "outputs": [
    {
     "name": "stdout",
     "output_type": "stream",
     "text": [
      "50\n"
     ]
    }
   ],
   "source": [
    "#lambda function : Anonymous\n",
    "x = 10\n",
    "#lambda x : x * x\n",
    "Square = lambda y : x * 5\n",
    "print(Square(5))"
   ]
  },
  {
   "cell_type": "code",
   "execution_count": 56,
   "id": "4b0c7064",
   "metadata": {},
   "outputs": [
    {
     "name": "stdout",
     "output_type": "stream",
     "text": [
      "7\n"
     ]
    }
   ],
   "source": [
    "#lambda function : Anonymous\n",
    "\n",
    "#lambda x : x * x\n",
    "Square = lambda x, y : x + y\n",
    "print(Square(5, 2))"
   ]
  },
  {
   "cell_type": "code",
   "execution_count": 63,
   "id": "d7bde6d5",
   "metadata": {},
   "outputs": [
    {
     "name": "stdout",
     "output_type": "stream",
     "text": [
      "7\n",
      "7\n",
      "None\n"
     ]
    }
   ],
   "source": [
    "#Test Program\n",
    "\n",
    "def add(x, y):\n",
    "    print(x + y)\n",
    "    \n",
    "#add()           :TypeError    \n",
    "#add(5)          :TypeError\n",
    "#print(add())    :TypeError\n",
    "add(5, 2)\n",
    "Sum = add(5, 2)\n",
    "print(Sum)"
   ]
  },
  {
   "cell_type": "code",
   "execution_count": 74,
   "id": "3aeef879",
   "metadata": {},
   "outputs": [
    {
     "name": "stdout",
     "output_type": "stream",
     "text": [
      "x : -2\n",
      "y : 4\n",
      "z : 5\n",
      "-40\n"
     ]
    }
   ],
   "source": [
    "#keyword argument\n",
    "def prod(x, y, z):\n",
    "    print('x :',x)\n",
    "    print('y :', y)\n",
    "    print('z :', z)\n",
    "    return x * y * z\n",
    "\n",
    "#print(prod(2, 3, 5))\n",
    "#product = prod(-2, 5, x = 4)    :TypeError\n",
    "product = prod(y = 4, x = -2, z = 5)\n",
    "print(product)"
   ]
  },
  {
   "cell_type": "code",
   "execution_count": 76,
   "id": "89468e50",
   "metadata": {},
   "outputs": [
    {
     "name": "stdout",
     "output_type": "stream",
     "text": [
      "(7, 3, 10, 2.5, 25)\n",
      "Sum\t: 7\n",
      "Diff\t: 3\n",
      "Prod\t: 10\n",
      "Div\t: 2.5\n",
      "Pow\t: 25\n"
     ]
    }
   ],
   "source": [
    "#returning multiple values from a function\n",
    "def calC(x, y):\n",
    "    return x+y, x-y, x*y, x/y, x**y\n",
    "\n",
    "result = calC(5, 2)\n",
    "print(result)\n",
    "\n",
    "Sum, Diff, Prod, Div, Pow = calC(5, 2)\n",
    "print('Sum\\t:',Sum)\n",
    "print('Diff\\t:', Diff)\n",
    "print('Prod\\t:', Prod)\n",
    "print('Div\\t:', Div)\n",
    "print('Pow\\t:', Pow)"
   ]
  },
  {
   "cell_type": "code",
   "execution_count": 82,
   "id": "fa792d6d",
   "metadata": {},
   "outputs": [
    {
     "name": "stdout",
     "output_type": "stream",
     "text": [
      "(1, 2, 3)\n",
      "3\n"
     ]
    }
   ],
   "source": [
    "#variable-length arg : *args\n",
    "\n",
    "def data(*var): #Implicit TypeCasting to Tuple -tuple()\n",
    "    print(var)\n",
    "    print(var[2])\n",
    "    \n",
    "#data(int(1))\n",
    "data(1, 2, 3)"
   ]
  },
  {
   "cell_type": "code",
   "execution_count": 88,
   "id": "add48770",
   "metadata": {},
   "outputs": [
    {
     "name": "stdout",
     "output_type": "stream",
     "text": [
      "{'name': 'Shivani', 'age': 23}\n",
      "Age : 23\n"
     ]
    }
   ],
   "source": [
    "#variable-length keyword arg : **args\n",
    "\n",
    "def data(**var): \n",
    "    print(var)\n",
    "    print(f'Age : {var.get(\"age\")}')\n",
    "    \n",
    "data(name = \"Shivani\", age = 23)"
   ]
  },
  {
   "cell_type": "code",
   "execution_count": 90,
   "id": "0313aadd",
   "metadata": {},
   "outputs": [
    {
     "name": "stdout",
     "output_type": "stream",
     "text": [
      "2 4 "
     ]
    }
   ],
   "source": [
    "#collection as an arg\n",
    "#Collection : List, Tuple, Set, Dict\n",
    "\n",
    "def Operation(List):\n",
    "    for i in List:\n",
    "        if i % 2 == 0:\n",
    "            print(i, end = ' ')\n",
    "    \n",
    "Operation([1, 2, 3, 4, 5])"
   ]
  },
  {
   "cell_type": "markdown",
   "id": "18253fd2",
   "metadata": {},
   "source": [
    "### Project "
   ]
  },
  {
   "cell_type": "markdown",
   "id": "ff97d45e",
   "metadata": {},
   "source": [
    "#### Guess Number "
   ]
  },
  {
   "cell_type": "code",
   "execution_count": 2,
   "id": "5454a04c",
   "metadata": {},
   "outputs": [
    {
     "name": "stdout",
     "output_type": "stream",
     "text": [
      "Enter any number between (1-10) : 8\n",
      "num : 7\n",
      "You lost! :(\n",
      "Do you want to play again ?(y/n) : y\n",
      "Enter any number between (1-10) : 7\n",
      "num : 6\n",
      "You lost! :(\n",
      "Do you want to play again ?(y/n) : n\n",
      "Game Over...\n"
     ]
    }
   ],
   "source": [
    "import random\n",
    "\n",
    "while True:\n",
    "    n = int(input(\"Enter any number between (1-10) : \"))\n",
    "    num = random.randint(1,10)\n",
    "    if n == num:\n",
    "        print('num :', num)\n",
    "        print('You won! :)')\n",
    "    else:\n",
    "        print('num :', num)\n",
    "        print('You lost! :(')\n",
    "    choice = input(\"Do you want to play again ?(y/n) : \")\n",
    "    if choice.lower() == 'n':\n",
    "        print('Game Over...')\n",
    "        break"
   ]
  },
  {
   "cell_type": "markdown",
   "id": "1c1efe78",
   "metadata": {},
   "source": [
    "### Project "
   ]
  },
  {
   "cell_type": "markdown",
   "id": "0f37043c",
   "metadata": {},
   "source": [
    "#### OTP Generation"
   ]
  },
  {
   "cell_type": "code",
   "execution_count": 4,
   "id": "e2f3d9ab",
   "metadata": {},
   "outputs": [
    {
     "name": "stdout",
     "output_type": "stream",
     "text": [
      "Enter the number of digits in OTP : 6\n",
      "Your One Time Password is : 019724"
     ]
    }
   ],
   "source": [
    "#Generating OTP\n",
    "\n",
    "import random\n",
    "n = int(input(\"Enter the number of digits in OTP : \"))\n",
    "print('Your One Time Password is : ',end = '')\n",
    "for i in range(n):\n",
    "    print(random.randint(0, 9), end='')"
   ]
  },
  {
   "cell_type": "code",
   "execution_count": 8,
   "id": "2effac5d",
   "metadata": {},
   "outputs": [
    {
     "name": "stdout",
     "output_type": "stream",
     "text": [
      "Enter the number of digits in OTP : 6\n",
      "Your One Time Password is : EF2KC7"
     ]
    }
   ],
   "source": [
    "#Generating OTP\n",
    "\n",
    "import random\n",
    "n = int(input(\"Enter the number of digits in OTP : \"))\n",
    "print('Your One Time Password is : ',end = '')\n",
    "String = \" 0 1 2 3 4 5 6 7 8 9 A B C D E F G H I J K L M N\"\n",
    "otp_value = String.split() \n",
    "for i in range(n):\n",
    "    print(random.choice(otp_value), end='')"
   ]
  },
  {
   "cell_type": "markdown",
   "id": "4a046ec5",
   "metadata": {},
   "source": [
    "#### Exception Handling"
   ]
  },
  {
   "cell_type": "markdown",
   "id": "365ee14d",
   "metadata": {},
   "source": [
    "Types of Errors/Exceptions\n",
    " 1. Error\n",
    "    1.1 Compile Time Error\n",
    "        1.1.1 Syntax Error\n",
    "        1.1.2 Semantic Error\n",
    "    1.2 Run Time Error\n",
    "    1.3 Logical\n",
    "    1.4 Python Error\n",
    "        1.4.1  SyntaxError\n",
    "        1.4.2  TypeError\n",
    "        1.4.3  ValueError\n",
    "        1.4.4  IndentationError\n",
    "        1.4.5  NameError\n",
    "        1.4.6  KeyError\n",
    "        1.4.7  ModuleNotFoundError\n",
    "        1.4.8  AttributeError - OOP\n",
    "        1.4.9  RunTimeError\n",
    "        1.4.10 IndexError\n",
    "        1.1.11 \n",
    " 2. Exception\n",
    "    2.1 ZeroDivisionError - 1/0\n",
    "    \n"
   ]
  },
  {
   "cell_type": "code",
   "execution_count": 11,
   "id": "177002d7",
   "metadata": {},
   "outputs": [
    {
     "ename": "SyntaxError",
     "evalue": "EOL while scanning string literal (391674209.py, line 3)",
     "output_type": "error",
     "traceback": [
      "\u001b[1;36m  File \u001b[1;32m\"C:\\Users\\kuwar\\AppData\\Local\\Temp\\ipykernel_31808\\391674209.py\"\u001b[1;36m, line \u001b[1;32m3\u001b[0m\n\u001b[1;33m    print('Hello)\u001b[0m\n\u001b[1;37m                 ^\u001b[0m\n\u001b[1;31mSyntaxError\u001b[0m\u001b[1;31m:\u001b[0m EOL while scanning string literal\n"
     ]
    }
   ],
   "source": [
    "#Syntax Error\n",
    "\n",
    "print('Hello)"
   ]
  },
  {
   "cell_type": "code",
   "execution_count": 39,
   "id": "61590ea2",
   "metadata": {},
   "outputs": [
    {
     "ename": "SyntaxError",
     "evalue": "cannot assign to operator (2338562614.py, line 6)",
     "output_type": "error",
     "traceback": [
      "\u001b[1;36m  File \u001b[1;32m\"C:\\Users\\kuwar\\AppData\\Local\\Temp\\ipykernel_31808\\2338562614.py\"\u001b[1;36m, line \u001b[1;32m6\u001b[0m\n\u001b[1;33m    a + b = c    #Semantic Error\u001b[0m\n\u001b[1;37m    ^\u001b[0m\n\u001b[1;31mSyntaxError\u001b[0m\u001b[1;31m:\u001b[0m cannot assign to operator\n"
     ]
    }
   ],
   "source": [
    "#Semantic Error\n",
    "#Expected Output  : 7\n",
    "\n",
    "a, b = 5, 2\n",
    "#c = a + b\n",
    "a + b = c    #Semantic Error\n",
    "print(c)"
   ]
  },
  {
   "cell_type": "code",
   "execution_count": 18,
   "id": "bf17506b",
   "metadata": {},
   "outputs": [
    {
     "name": "stdout",
     "output_type": "stream",
     "text": [
      "5\n"
     ]
    },
    {
     "ename": "TypeError",
     "evalue": "can only concatenate str (not \"int\") to str",
     "output_type": "error",
     "traceback": [
      "\u001b[1;31m---------------------------------------------------------------------------\u001b[0m",
      "\u001b[1;31mTypeError\u001b[0m                                 Traceback (most recent call last)",
      "\u001b[1;32m~\\AppData\\Local\\Temp\\ipykernel_31808\\3395850628.py\u001b[0m in \u001b[0;36m<module>\u001b[1;34m\u001b[0m\n\u001b[0;32m      3\u001b[0m \u001b[0mn\u001b[0m \u001b[1;33m=\u001b[0m \u001b[0minput\u001b[0m\u001b[1;33m(\u001b[0m\u001b[1;33m)\u001b[0m\u001b[1;33m\u001b[0m\u001b[1;33m\u001b[0m\u001b[0m\n\u001b[0;32m      4\u001b[0m \u001b[1;33m\u001b[0m\u001b[0m\n\u001b[1;32m----> 5\u001b[1;33m \u001b[0mprint\u001b[0m\u001b[1;33m(\u001b[0m\u001b[0mn\u001b[0m \u001b[1;33m+\u001b[0m \u001b[1;36m2\u001b[0m\u001b[1;33m)\u001b[0m\u001b[1;33m\u001b[0m\u001b[1;33m\u001b[0m\u001b[0m\n\u001b[0m",
      "\u001b[1;31mTypeError\u001b[0m: can only concatenate str (not \"int\") to str"
     ]
    }
   ],
   "source": [
    "#Run Time Error\n",
    "\n",
    "n = input()\n",
    "\n",
    "print(n + 2)"
   ]
  },
  {
   "cell_type": "code",
   "execution_count": 19,
   "id": "9acfe27b",
   "metadata": {},
   "outputs": [
    {
     "name": "stdout",
     "output_type": "stream",
     "text": [
      "10\n"
     ]
    }
   ],
   "source": [
    "#Logical Error\n",
    "#Expected Output  : 7\n",
    "a, b = 5, 2\n",
    "Sum = a * b\n",
    "print(Sum)"
   ]
  },
  {
   "cell_type": "code",
   "execution_count": 20,
   "id": "31af5b6d",
   "metadata": {},
   "outputs": [
    {
     "ename": "ModuleNotFoundError",
     "evalue": "No module named 'mathematics'",
     "output_type": "error",
     "traceback": [
      "\u001b[1;31m---------------------------------------------------------------------------\u001b[0m",
      "\u001b[1;31mModuleNotFoundError\u001b[0m                       Traceback (most recent call last)",
      "\u001b[1;32m~\\AppData\\Local\\Temp\\ipykernel_31808\\1437762227.py\u001b[0m in \u001b[0;36m<module>\u001b[1;34m\u001b[0m\n\u001b[0;32m      1\u001b[0m \u001b[1;31m#ModuleNotFoundError\u001b[0m\u001b[1;33m\u001b[0m\u001b[1;33m\u001b[0m\u001b[0m\n\u001b[0;32m      2\u001b[0m \u001b[1;33m\u001b[0m\u001b[0m\n\u001b[1;32m----> 3\u001b[1;33m \u001b[1;32mimport\u001b[0m \u001b[0mmathematics\u001b[0m\u001b[1;33m\u001b[0m\u001b[1;33m\u001b[0m\u001b[0m\n\u001b[0m",
      "\u001b[1;31mModuleNotFoundError\u001b[0m: No module named 'mathematics'"
     ]
    }
   ],
   "source": [
    "#ModuleNotFoundError\n",
    "\n",
    "import mathematics"
   ]
  },
  {
   "cell_type": "code",
   "execution_count": 23,
   "id": "8b0aac12",
   "metadata": {},
   "outputs": [
    {
     "ename": "KeyError",
     "evalue": "1",
     "output_type": "error",
     "traceback": [
      "\u001b[1;31m---------------------------------------------------------------------------\u001b[0m",
      "\u001b[1;31mKeyError\u001b[0m                                  Traceback (most recent call last)",
      "\u001b[1;32m~\\AppData\\Local\\Temp\\ipykernel_31808\\2592214555.py\u001b[0m in \u001b[0;36m<module>\u001b[1;34m\u001b[0m\n\u001b[0;32m      1\u001b[0m \u001b[0mDict\u001b[0m \u001b[1;33m=\u001b[0m \u001b[1;33m{\u001b[0m\u001b[1;33m}\u001b[0m\u001b[1;33m\u001b[0m\u001b[1;33m\u001b[0m\u001b[0m\n\u001b[0;32m      2\u001b[0m \u001b[1;33m\u001b[0m\u001b[0m\n\u001b[1;32m----> 3\u001b[1;33m \u001b[0mprint\u001b[0m\u001b[1;33m(\u001b[0m\u001b[0mDict\u001b[0m\u001b[1;33m[\u001b[0m\u001b[1;36m1\u001b[0m\u001b[1;33m]\u001b[0m\u001b[1;33m)\u001b[0m\u001b[1;33m\u001b[0m\u001b[1;33m\u001b[0m\u001b[0m\n\u001b[0m\u001b[0;32m      4\u001b[0m \u001b[0mprint\u001b[0m\u001b[1;33m(\u001b[0m\u001b[0mDict\u001b[0m\u001b[1;33m.\u001b[0m\u001b[0mget\u001b[0m\u001b[1;33m(\u001b[0m\u001b[1;36m1\u001b[0m\u001b[1;33m)\u001b[0m\u001b[1;33m)\u001b[0m     \u001b[1;31m#None\u001b[0m\u001b[1;33m\u001b[0m\u001b[1;33m\u001b[0m\u001b[0m\n",
      "\u001b[1;31mKeyError\u001b[0m: 1"
     ]
    }
   ],
   "source": [
    "Dict = {}\n",
    "\n",
    "print(Dict[1])\n",
    "print(Dict.get(1))     #None"
   ]
  },
  {
   "cell_type": "code",
   "execution_count": 25,
   "id": "d6547a39",
   "metadata": {},
   "outputs": [
    {
     "ename": "ZeroDivisionError",
     "evalue": "division by zero",
     "output_type": "error",
     "traceback": [
      "\u001b[1;31m---------------------------------------------------------------------------\u001b[0m",
      "\u001b[1;31mZeroDivisionError\u001b[0m                         Traceback (most recent call last)",
      "\u001b[1;32m~\\AppData\\Local\\Temp\\ipykernel_31808\\3999703312.py\u001b[0m in \u001b[0;36m<module>\u001b[1;34m\u001b[0m\n\u001b[0;32m      3\u001b[0m \u001b[0ma\u001b[0m\u001b[1;33m,\u001b[0m \u001b[0mb\u001b[0m \u001b[1;33m=\u001b[0m \u001b[1;36m5\u001b[0m\u001b[1;33m,\u001b[0m \u001b[1;36m0\u001b[0m\u001b[1;33m\u001b[0m\u001b[1;33m\u001b[0m\u001b[0m\n\u001b[0;32m      4\u001b[0m \u001b[1;33m\u001b[0m\u001b[0m\n\u001b[1;32m----> 5\u001b[1;33m \u001b[0mresult\u001b[0m \u001b[1;33m=\u001b[0m \u001b[0ma\u001b[0m \u001b[1;33m/\u001b[0m \u001b[0mb\u001b[0m\u001b[1;33m\u001b[0m\u001b[1;33m\u001b[0m\u001b[0m\n\u001b[0m\u001b[0;32m      6\u001b[0m \u001b[0mprint\u001b[0m\u001b[1;33m(\u001b[0m\u001b[0mresult\u001b[0m\u001b[1;33m)\u001b[0m\u001b[1;33m\u001b[0m\u001b[1;33m\u001b[0m\u001b[0m\n",
      "\u001b[1;31mZeroDivisionError\u001b[0m: division by zero"
     ]
    }
   ],
   "source": [
    "#Exception - ZeroDivisionError\n",
    "\n",
    "a, b = 5, 0\n",
    "\n",
    "result = a / b\n",
    "print(result)"
   ]
  },
  {
   "cell_type": "code",
   "execution_count": 29,
   "id": "e0d2763b",
   "metadata": {},
   "outputs": [
    {
     "name": "stdout",
     "output_type": "stream",
     "text": [
      "5\n",
      "0\n",
      "Cannot Divide by Zero{0}!\n",
      "Program executed successfully!\n"
     ]
    }
   ],
   "source": [
    "#Exception Handling\n",
    "#try - except\n",
    "\n",
    "try:\n",
    "    a = int(input())\n",
    "    b = int(input())\n",
    "    \n",
    "    print('Result :', (a / b))\n",
    "    \n",
    "except:\n",
    "    print('Cannot Divide by Zero{0}!')\n",
    "    \n",
    "finally:\n",
    "    print(\"Program executed successfully!\")"
   ]
  },
  {
   "cell_type": "code",
   "execution_count": 38,
   "id": "efc209e5",
   "metadata": {},
   "outputs": [
    {
     "name": "stdout",
     "output_type": "stream",
     "text": [
      "5\n",
      "NaN\n"
     ]
    }
   ],
   "source": [
    "from math import factorial as f\n",
    "\n",
    "try:\n",
    "    n = input()\n",
    "    print(f(n))\n",
    "except:\n",
    "    print(\"NaN\")"
   ]
  },
  {
   "cell_type": "code",
   "execution_count": 35,
   "id": "70ccef0e",
   "metadata": {},
   "outputs": [
    {
     "name": "stdout",
     "output_type": "stream",
     "text": [
      "5\n",
      "120\n"
     ]
    }
   ],
   "source": [
    "n = input()\n",
    "print(f(int(n)))"
   ]
  },
  {
   "cell_type": "code",
   "execution_count": 40,
   "id": "5b3a588a",
   "metadata": {},
   "outputs": [
    {
     "name": "stdout",
     "output_type": "stream",
     "text": [
      "5\n"
     ]
    },
    {
     "ename": "TypeError",
     "evalue": "NaN",
     "output_type": "error",
     "traceback": [
      "\u001b[1;31m---------------------------------------------------------------------------\u001b[0m",
      "\u001b[1;31mTypeError\u001b[0m                                 Traceback (most recent call last)",
      "\u001b[1;32m~\\AppData\\Local\\Temp\\ipykernel_31808\\637704633.py\u001b[0m in \u001b[0;36m<module>\u001b[1;34m\u001b[0m\n\u001b[0;32m      4\u001b[0m \u001b[1;33m\u001b[0m\u001b[0m\n\u001b[0;32m      5\u001b[0m \u001b[1;32mif\u001b[0m \u001b[0mn\u001b[0m \u001b[1;33m!=\u001b[0m \u001b[0mint\u001b[0m\u001b[1;33m(\u001b[0m\u001b[0mn\u001b[0m\u001b[1;33m)\u001b[0m\u001b[1;33m:\u001b[0m\u001b[1;33m\u001b[0m\u001b[1;33m\u001b[0m\u001b[0m\n\u001b[1;32m----> 6\u001b[1;33m     \u001b[1;32mraise\u001b[0m \u001b[0mTypeError\u001b[0m\u001b[1;33m(\u001b[0m\u001b[1;34m\"NaN\"\u001b[0m\u001b[1;33m)\u001b[0m\u001b[1;33m\u001b[0m\u001b[1;33m\u001b[0m\u001b[0m\n\u001b[0m",
      "\u001b[1;31mTypeError\u001b[0m: NaN"
     ]
    }
   ],
   "source": [
    "#raise\n",
    "\n",
    "n = input()\n",
    "\n",
    "if n != int(n):\n",
    "    raise TypeError(\"NaN\")"
   ]
  },
  {
   "cell_type": "code",
   "execution_count": 3,
   "id": "13cd569c",
   "metadata": {},
   "outputs": [
    {
     "name": "stdout",
     "output_type": "stream",
     "text": [
      "100\n"
     ]
    },
    {
     "ename": "Exception",
     "evalue": "Input out of range.",
     "output_type": "error",
     "traceback": [
      "\u001b[1;31m---------------------------------------------------------------------------\u001b[0m",
      "\u001b[1;31mException\u001b[0m                                 Traceback (most recent call last)",
      "\u001b[1;32m~\\AppData\\Local\\Temp\\ipykernel_20276\\1062728947.py\u001b[0m in \u001b[0;36m<module>\u001b[1;34m\u001b[0m\n\u001b[0;32m      3\u001b[0m \u001b[1;33m\u001b[0m\u001b[0m\n\u001b[0;32m      4\u001b[0m \u001b[1;32mif\u001b[0m \u001b[0mx\u001b[0m \u001b[1;33m<=\u001b[0m \u001b[1;36m0\u001b[0m \u001b[1;32mor\u001b[0m \u001b[0mx\u001b[0m \u001b[1;33m>=\u001b[0m \u001b[1;36m100\u001b[0m\u001b[1;33m:\u001b[0m\u001b[1;33m\u001b[0m\u001b[1;33m\u001b[0m\u001b[0m\n\u001b[1;32m----> 5\u001b[1;33m     \u001b[1;32mraise\u001b[0m \u001b[0mException\u001b[0m\u001b[1;33m(\u001b[0m\u001b[1;34m\"Input out of range.\"\u001b[0m\u001b[1;33m)\u001b[0m\u001b[1;33m\u001b[0m\u001b[1;33m\u001b[0m\u001b[0m\n\u001b[0m\u001b[0;32m      6\u001b[0m \u001b[1;33m\u001b[0m\u001b[0m\n\u001b[0;32m      7\u001b[0m \u001b[1;32melse\u001b[0m\u001b[1;33m:\u001b[0m\u001b[1;33m\u001b[0m\u001b[1;33m\u001b[0m\u001b[0m\n",
      "\u001b[1;31mException\u001b[0m: Input out of range."
     ]
    }
   ],
   "source": [
    "#Input : 0< x < 100\n",
    "x = int(input())\n",
    "\n",
    "if x <= 0 or x >= 100:\n",
    "    raise Exception(\"Input out of range.\")\n",
    "    \n",
    "else:\n",
    "    print(f'x : {x}')"
   ]
  },
  {
   "cell_type": "code",
   "execution_count": 5,
   "id": "37a32d0c",
   "metadata": {},
   "outputs": [
    {
     "ename": "AssertionError",
     "evalue": "",
     "output_type": "error",
     "traceback": [
      "\u001b[1;31m---------------------------------------------------------------------------\u001b[0m",
      "\u001b[1;31mAssertionError\u001b[0m                            Traceback (most recent call last)",
      "\u001b[1;32m~\\AppData\\Local\\Temp\\ipykernel_20276\\3108279236.py\u001b[0m in \u001b[0;36m<module>\u001b[1;34m\u001b[0m\n\u001b[0;32m      5\u001b[0m \u001b[0mSum\u001b[0m \u001b[1;33m=\u001b[0m \u001b[0mx\u001b[0m \u001b[1;33m+\u001b[0m \u001b[0my\u001b[0m\u001b[1;33m\u001b[0m\u001b[1;33m\u001b[0m\u001b[0m\n\u001b[0;32m      6\u001b[0m \u001b[1;33m\u001b[0m\u001b[0m\n\u001b[1;32m----> 7\u001b[1;33m \u001b[1;32massert\u001b[0m \u001b[0mSum\u001b[0m \u001b[1;33m==\u001b[0m \u001b[1;36m7\u001b[0m\u001b[1;33m\u001b[0m\u001b[1;33m\u001b[0m\u001b[0m\n\u001b[0m",
      "\u001b[1;31mAssertionError\u001b[0m: "
     ]
    }
   ],
   "source": [
    "#assert\n",
    "\n",
    "x, y = 5, 8\n",
    "\n",
    "Sum = x + y\n",
    "\n",
    "assert Sum == 7"
   ]
  },
  {
   "cell_type": "code",
   "execution_count": 2,
   "id": "01ea8254",
   "metadata": {},
   "outputs": [
    {
     "name": "stdout",
     "output_type": "stream",
     "text": [
      "username : p\n",
      "password : o\n",
      "Invalid Credentials.!\n",
      "username : p\n",
      "password : o\n",
      "Invalid Credentials.!\n",
      "username : i\n",
      "password : p\n",
      "Invalid Credentials.!\n",
      "username : o\n",
      "password : \n",
      "Invalid Credentials.!\n",
      "username : y\n",
      "password : y\n",
      "username : t\n",
      "password : p\n",
      "Invalid Credentials.!\n",
      "Please reset your password..\n"
     ]
    }
   ],
   "source": [
    "#while - loop : Conditional Loop\n",
    "#e-mail login\n",
    "\n",
    "count = 1\n",
    "while True:\n",
    "    email = input('username : ')\n",
    "    password = input('password : ')\n",
    "    if email !='x' and password != 'y':\n",
    "        print(\"Invalid Credentials.!\")\n",
    "        count += 1\n",
    "        if count == 6:\n",
    "            print('Please reset your password..')\n",
    "            break\n",
    "        else:\n",
    "            continue\n",
    "    elif email =='x' and password == 'y': \n",
    "        print('Welcome x! You are looged in.')\n",
    "        break"
   ]
  },
  {
   "cell_type": "markdown",
   "id": "a2f4331e",
   "metadata": {},
   "source": [
    "#### Object Oriented Programming"
   ]
  },
  {
   "cell_type": "code",
   "execution_count": 3,
   "id": "bc31dcc0",
   "metadata": {},
   "outputs": [],
   "source": [
    "class Python:\n",
    "    name = 'Nikita'"
   ]
  },
  {
   "cell_type": "code",
   "execution_count": 4,
   "id": "ed2a616f",
   "metadata": {},
   "outputs": [],
   "source": [
    "class Python:\n",
    "    pass"
   ]
  },
  {
   "cell_type": "code",
   "execution_count": 5,
   "id": "2d519678",
   "metadata": {},
   "outputs": [
    {
     "name": "stdout",
     "output_type": "stream",
     "text": [
      "Nikita\n"
     ]
    }
   ],
   "source": [
    "class Python:\n",
    "    name = 'Nikita'\n",
    "\n",
    "obj = Python()\n",
    "\n",
    "print(obj.name)"
   ]
  },
  {
   "cell_type": "code",
   "execution_count": 13,
   "id": "c8e98ccb",
   "metadata": {},
   "outputs": [
    {
     "name": "stdout",
     "output_type": "stream",
     "text": [
      "Welcome to the Jungle!\n"
     ]
    }
   ],
   "source": [
    "class Student:\n",
    "    def greet(self):\n",
    "        print('Welcome to the Jungle!')\n",
    "\n",
    "S = Student()\n",
    "#print(S.greet())\n",
    "S.greet()"
   ]
  },
  {
   "cell_type": "code",
   "execution_count": 14,
   "id": "1aad1a90",
   "metadata": {},
   "outputs": [
    {
     "name": "stdout",
     "output_type": "stream",
     "text": [
      "Welcome to the Jungle!\n"
     ]
    }
   ],
   "source": [
    "class Student:\n",
    "    def __init__(self):\n",
    "        print('Welcome to the Jungle!')\n",
    "\n",
    "S = Student()"
   ]
  },
  {
   "cell_type": "code",
   "execution_count": 21,
   "id": "5b81ed6f",
   "metadata": {},
   "outputs": [
    {
     "name": "stdout",
     "output_type": "stream",
     "text": [
      "Hema\n",
      "Student Name : Hema\n",
      "Hema can dance.\n",
      "Student Name : Priyanka\n"
     ]
    },
    {
     "ename": "NameError",
     "evalue": "name 'S' is not defined",
     "output_type": "error",
     "traceback": [
      "\u001b[1;31m---------------------------------------------------------------------------\u001b[0m",
      "\u001b[1;31mNameError\u001b[0m                                 Traceback (most recent call last)",
      "\u001b[1;32m~\\AppData\\Local\\Temp\\ipykernel_26300\\2377175708.py\u001b[0m in \u001b[0;36m<module>\u001b[1;34m\u001b[0m\n\u001b[0;32m     17\u001b[0m \u001b[1;33m\u001b[0m\u001b[0m\n\u001b[0;32m     18\u001b[0m \u001b[1;32mdel\u001b[0m \u001b[0mS\u001b[0m\u001b[1;33m\u001b[0m\u001b[1;33m\u001b[0m\u001b[0m\n\u001b[1;32m---> 19\u001b[1;33m \u001b[0mS\u001b[0m\u001b[1;33m.\u001b[0m\u001b[0mfunc\u001b[0m\u001b[1;33m(\u001b[0m\u001b[1;33m)\u001b[0m\u001b[1;33m\u001b[0m\u001b[1;33m\u001b[0m\u001b[0m\n\u001b[0m",
      "\u001b[1;31mNameError\u001b[0m: name 'S' is not defined"
     ]
    }
   ],
   "source": [
    "class Student:\n",
    "    def __init__(self, name):\n",
    "       self.student_name = name\n",
    "    \n",
    "    def display(self):\n",
    "        print('Student Name :', self.student_name)\n",
    "    \n",
    "    def func(self):\n",
    "        print(self.student_name,\"can dance.\")\n",
    "\n",
    "studentName = input()\n",
    "S = Student(studentName)\n",
    "S.display()\n",
    "S.func()\n",
    "S.student_name = 'Priyanka'\n",
    "S.display()\n",
    "\n",
    "del S\n",
    "S.func()"
   ]
  },
  {
   "cell_type": "code",
   "execution_count": 24,
   "id": "50db2309",
   "metadata": {},
   "outputs": [
    {
     "name": "stdout",
     "output_type": "stream",
     "text": [
      "Chiku can access Honda\n"
     ]
    }
   ],
   "source": [
    "#Inheritance\n",
    "#Single level \n",
    "class Parent:\n",
    "    def __init__(self, vehicle):\n",
    "        self.car = vehicle\n",
    "        \n",
    "class Child(Parent):\n",
    "    pass\n",
    "\n",
    "child = Child('Honda')\n",
    "print(f'Chiku can access {child.car}')"
   ]
  },
  {
   "cell_type": "code",
   "execution_count": 25,
   "id": "fbfd522d",
   "metadata": {},
   "outputs": [
    {
     "ename": "TypeError",
     "evalue": "__init__() missing 1 required positional argument: 'vehicle'",
     "output_type": "error",
     "traceback": [
      "\u001b[1;31m---------------------------------------------------------------------------\u001b[0m",
      "\u001b[1;31mTypeError\u001b[0m                                 Traceback (most recent call last)",
      "\u001b[1;32m~\\AppData\\Local\\Temp\\ipykernel_26300\\4173738134.py\u001b[0m in \u001b[0;36m<module>\u001b[1;34m\u001b[0m\n\u001b[0;32m      9\u001b[0m \u001b[1;33m\u001b[0m\u001b[0m\n\u001b[0;32m     10\u001b[0m \u001b[0mparent\u001b[0m \u001b[1;33m=\u001b[0m \u001b[0mParent\u001b[0m\u001b[1;33m(\u001b[0m\u001b[1;34m'Honda'\u001b[0m\u001b[1;33m)\u001b[0m\u001b[1;33m\u001b[0m\u001b[1;33m\u001b[0m\u001b[0m\n\u001b[1;32m---> 11\u001b[1;33m \u001b[0mchild\u001b[0m \u001b[1;33m=\u001b[0m \u001b[0mChild\u001b[0m\u001b[1;33m(\u001b[0m\u001b[1;33m)\u001b[0m\u001b[1;33m\u001b[0m\u001b[1;33m\u001b[0m\u001b[0m\n\u001b[0m\u001b[0;32m     12\u001b[0m \u001b[0mprint\u001b[0m\u001b[1;33m(\u001b[0m\u001b[1;34mf'Chiku can access {child.car}'\u001b[0m\u001b[1;33m)\u001b[0m\u001b[1;33m\u001b[0m\u001b[1;33m\u001b[0m\u001b[0m\n",
      "\u001b[1;31mTypeError\u001b[0m: __init__() missing 1 required positional argument: 'vehicle'"
     ]
    }
   ],
   "source": [
    "#Inheritance\n",
    "\n",
    "class Parent:\n",
    "    def __init__(self, vehicle):\n",
    "        self.car = vehicle\n",
    "        \n",
    "class Child(Parent):\n",
    "    pass\n",
    "\n",
    "parent = Parent('Honda')\n",
    "child = Child()\n",
    "print(f'Chiku can access {child.car}')"
   ]
  },
  {
   "cell_type": "code",
   "execution_count": 37,
   "id": "3b4b0394",
   "metadata": {},
   "outputs": [
    {
     "name": "stdout",
     "output_type": "stream",
     "text": [
      "Chiku can access Honda\n"
     ]
    }
   ],
   "source": [
    "#Inheritance\n",
    "#Multi-level \n",
    "\n",
    "class GrandFather:\n",
    "    def __init__(self, vehicle):\n",
    "        self.car = vehicle\n",
    "        \n",
    "class Father(GrandFather):\n",
    "    def info(self):\n",
    "        print(\"MotorCycle.\")\n",
    "        \n",
    "class GrandChild(Father):\n",
    "    pass\n",
    "\n",
    "grand_child = GrandChild('Honda')\n",
    "print(f'Chiku can access {grand_child.car}')"
   ]
  },
  {
   "cell_type": "markdown",
   "id": "81231f4e",
   "metadata": {},
   "source": [
    "#### Data Visualization "
   ]
  },
  {
   "cell_type": "code",
   "execution_count": 41,
   "id": "a1cb965c",
   "metadata": {},
   "outputs": [
    {
     "data": {
      "image/png": "[encoded data removed]",
      "text/plain": [
       "<Figure size 640x480 with 1 Axes>"
      ]
     },
     "metadata": {},
     "output_type": "display_data"
    }
   ],
   "source": [
    "import numpy as np\n",
    "import matplotlib.pyplot as plot\n",
    "\n",
    "x = np.array(['Delhi', 'Andhra Pradesh', 'Goa', 'Rajsthan', 'Kerala'])\n",
    "y = np.array([100000, 200000, 5000, 150000, 30000])\n",
    "\n",
    "plot.bar(x, y)\n",
    "plot.show()"
   ]
  },
  {
   "cell_type": "code",
   "execution_count": null,
   "id": "a3c022bf",
   "metadata": {},
   "outputs": [],
   "source": []
  }
 ],
 "metadata": {
  "kernelspec": {
   "display_name": "Python 3 (ipykernel)",
   "language": "python",
   "name": "python3"
  },
  "language_info": {
   "codemirror_mode": {
    "name": "ipython",
    "version": 3
   },
   "file_extension": ".py",
   "mimetype": "text/x-python",
   "name": "python",
   "nbconvert_exporter": "python",
   "pygments_lexer": "ipython3",
   "version": "3.9.13"
  }
 },
 "nbformat": 4,
 "nbformat_minor": 5
}
